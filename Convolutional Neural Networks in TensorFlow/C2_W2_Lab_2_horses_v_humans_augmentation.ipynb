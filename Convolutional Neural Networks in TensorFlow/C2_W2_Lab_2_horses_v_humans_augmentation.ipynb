{
  "cells": [
    {
      "cell_type": "markdown",
      "metadata": {
        "id": "UR8TA7FSbIVk"
      },
      "source": [
        "<a href=\"https://colab.research.google.com/github/https-deeplearning-ai/tensorflow-1-public/blob/master/C2/W2/ungraded_labs/C2_W2_Lab_2_horses_v_humans_augmentation.ipynb\" target=\"_parent\"><img src=\"https://colab.research.google.com/assets/colab-badge.svg\" alt=\"Open In Colab\"/></a>"
      ]
    },
    {
      "cell_type": "markdown",
      "metadata": {
        "id": "37v_yExZppEp"
      },
      "source": [
        "# Ungraded Lab: Data Augmentation on the Horses or Humans Dataset\n",
        "\n",
        "In the previous lab, you saw how data augmentation helped improve the model's performance on unseen data. By tweaking the cat and dog training images, the model was able to learn features that are also representative of the validation data. However, applying data augmentation requires good understanding of your dataset. Simply transforming it randomly will not always yield good results. \n",
        "\n",
        "In the next cells, you will apply the same techniques to the `Horses or Humans` dataset and analyze the results."
      ]
    },
    {
      "cell_type": "code",
      "execution_count": 1,
      "metadata": {
        "id": "Lslf0vB3rQlU",
        "colab": {
          "base_uri": "https://localhost:8080/"
        },
        "outputId": "36191c12-c4b6-42c2-cccf-9ea94b03e67e"
      },
      "outputs": [
        {
          "output_type": "stream",
          "name": "stdout",
          "text": [
            "--2022-04-01 14:00:46--  https://storage.googleapis.com/tensorflow-1-public/course2/week3/horse-or-human.zip\n",
            "Resolving storage.googleapis.com (storage.googleapis.com)... 142.250.148.128, 74.125.129.128, 172.217.212.128, ...\n",
            "Connecting to storage.googleapis.com (storage.googleapis.com)|142.250.148.128|:443... connected.\n",
            "HTTP request sent, awaiting response... 200 OK\n",
            "Length: 149574867 (143M) [application/zip]\n",
            "Saving to: ‘horse-or-human.zip’\n",
            "\n",
            "horse-or-human.zip  100%[===================>] 142.65M   181MB/s    in 0.8s    \n",
            "\n",
            "2022-04-01 14:00:47 (181 MB/s) - ‘horse-or-human.zip’ saved [149574867/149574867]\n",
            "\n"
          ]
        }
      ],
      "source": [
        "# Download the training set\n",
        "!wget https://storage.googleapis.com/tensorflow-1-public/course2/week3/horse-or-human.zip"
      ]
    },
    {
      "cell_type": "code",
      "execution_count": 2,
      "metadata": {
        "id": "mKLrmbZKbIVw",
        "colab": {
          "base_uri": "https://localhost:8080/"
        },
        "outputId": "e63d3828-5898-4afc-8249-28c6594f8bfc"
      },
      "outputs": [
        {
          "output_type": "stream",
          "name": "stdout",
          "text": [
            "--2022-04-01 14:00:47--  https://storage.googleapis.com/tensorflow-1-public/course2/week3/validation-horse-or-human.zip\n",
            "Resolving storage.googleapis.com (storage.googleapis.com)... 108.177.121.128, 108.177.120.128, 142.251.6.128, ...\n",
            "Connecting to storage.googleapis.com (storage.googleapis.com)|108.177.121.128|:443... connected.\n",
            "HTTP request sent, awaiting response... 200 OK\n",
            "Length: 11480187 (11M) [application/zip]\n",
            "Saving to: ‘validation-horse-or-human.zip’\n",
            "\n",
            "validation-horse-or 100%[===================>]  10.95M  --.-KB/s    in 0.07s   \n",
            "\n",
            "2022-04-01 14:00:47 (152 MB/s) - ‘validation-horse-or-human.zip’ saved [11480187/11480187]\n",
            "\n"
          ]
        }
      ],
      "source": [
        "# Download the validation set\n",
        "!wget https://storage.googleapis.com/tensorflow-1-public/course2/week3/validation-horse-or-human.zip"
      ]
    },
    {
      "cell_type": "code",
      "execution_count": 3,
      "metadata": {
        "id": "RXZT2UsyIVe_"
      },
      "outputs": [],
      "source": [
        "import os\n",
        "import zipfile\n",
        "\n",
        "# Extract the archive\n",
        "zip_ref = zipfile.ZipFile('./horse-or-human.zip', 'r')\n",
        "zip_ref.extractall('tmp/horse-or-human')\n",
        "\n",
        "zip_ref = zipfile.ZipFile('./validation-horse-or-human.zip', 'r')\n",
        "zip_ref.extractall('tmp/validation-horse-or-human')\n",
        "\n",
        "zip_ref.close()\n",
        "\n",
        "# Directory with training horse pictures\n",
        "train_horse_dir = os.path.join('tmp/horse-or-human/horses')\n",
        "\n",
        "# Directory with training human pictures\n",
        "train_human_dir = os.path.join('tmp/horse-or-human/humans')\n",
        "\n",
        "# Directory with training horse pictures\n",
        "validation_horse_dir = os.path.join('tmp/validation-horse-or-human/horses')\n",
        "\n",
        "# Directory with training human pictures\n",
        "validation_human_dir = os.path.join('tmp/validation-horse-or-human/humans')"
      ]
    },
    {
      "cell_type": "code",
      "execution_count": 4,
      "metadata": {
        "id": "PixZ2s5QbYQ3"
      },
      "outputs": [],
      "source": [
        "import tensorflow as tf\n",
        "\n",
        "# Build the model\n",
        "model = tf.keras.models.Sequential([\n",
        "    # Note the input shape is the desired size of the image 300x300 with 3 bytes color\n",
        "    # This is the first convolution\n",
        "    tf.keras.layers.Conv2D(16, (3,3), activation='relu', input_shape=(300, 300, 3)),\n",
        "    tf.keras.layers.MaxPooling2D(2, 2),\n",
        "    # The second convolution\n",
        "    tf.keras.layers.Conv2D(32, (3,3), activation='relu'),\n",
        "    tf.keras.layers.MaxPooling2D(2,2),\n",
        "    # The third convolution\n",
        "    tf.keras.layers.Conv2D(64, (3,3), activation='relu'),\n",
        "    tf.keras.layers.MaxPooling2D(2,2),\n",
        "    # The fourth convolution\n",
        "    tf.keras.layers.Conv2D(64, (3,3), activation='relu'),\n",
        "    tf.keras.layers.MaxPooling2D(2,2),\n",
        "    # The fifth convolution\n",
        "    tf.keras.layers.Conv2D(64, (3,3), activation='relu'),\n",
        "    tf.keras.layers.MaxPooling2D(2,2),\n",
        "    # Flatten the results to feed into a DNN\n",
        "    tf.keras.layers.Flatten(),\n",
        "    # 512 neuron hidden layer\n",
        "    tf.keras.layers.Dense(512, activation='relu'),\n",
        "    # Only 1 output neuron. It will contain a value from 0-1 where 0 for 1 class ('horses') and 1 for the other ('humans')\n",
        "    tf.keras.layers.Dense(1, activation='sigmoid')\n",
        "])"
      ]
    },
    {
      "cell_type": "code",
      "execution_count": 5,
      "metadata": {
        "id": "8DHWhFP_uhq3"
      },
      "outputs": [],
      "source": [
        "from tensorflow.keras.optimizers import RMSprop\n",
        "\n",
        "# Set training parameters\n",
        "model.compile(loss='binary_crossentropy',\n",
        "              optimizer=RMSprop(learning_rate=1e-4),\n",
        "              metrics=['accuracy'])"
      ]
    },
    {
      "cell_type": "code",
      "execution_count": 6,
      "metadata": {
        "id": "ClebU9NJg99G",
        "colab": {
          "base_uri": "https://localhost:8080/"
        },
        "outputId": "6251b1be-5056-4529-9229-adec781e7c64"
      },
      "outputs": [
        {
          "output_type": "stream",
          "name": "stdout",
          "text": [
            "Found 1027 images belonging to 2 classes.\n",
            "Found 256 images belonging to 2 classes.\n"
          ]
        }
      ],
      "source": [
        "from tensorflow.keras.preprocessing.image import ImageDataGenerator\n",
        "\n",
        "# Apply data augmentation\n",
        "train_datagen = ImageDataGenerator(\n",
        "      rescale=1./255,\n",
        "      rotation_range=40,\n",
        "      width_shift_range=0.2,\n",
        "      height_shift_range=0.2,\n",
        "      shear_range=0.2,\n",
        "      zoom_range=0.2,\n",
        "      horizontal_flip=True,\n",
        "      fill_mode='nearest')\n",
        "\n",
        "validation_datagen = ImageDataGenerator(rescale=1/255)\n",
        "\n",
        "# Flow training images in batches of 128 using train_datagen generator\n",
        "train_generator = train_datagen.flow_from_directory(\n",
        "        'tmp/horse-or-human/',  # This is the source directory for training images\n",
        "        target_size=(300, 300),  # All images will be resized to 150x150\n",
        "        batch_size=128,\n",
        "        # Since we use binary_crossentropy loss, we need binary labels\n",
        "        class_mode='binary')\n",
        "\n",
        "# Flow training images in batches of 128 using train_datagen generator\n",
        "validation_generator = validation_datagen.flow_from_directory(\n",
        "        'tmp/validation-horse-or-human/',  # This is the source directory for training images\n",
        "        target_size=(300, 300),  # All images will be resized to 150x150\n",
        "        batch_size=32,\n",
        "        # Since we use binary_crossentropy loss, we need binary labels\n",
        "        class_mode='binary')"
      ]
    },
    {
      "cell_type": "code",
      "execution_count": 7,
      "metadata": {
        "id": "Fb1_lgobv81m",
        "colab": {
          "base_uri": "https://localhost:8080/"
        },
        "outputId": "6cce82e3-3ca5-4c2d-bae9-074654f8fa07"
      },
      "outputs": [
        {
          "output_type": "stream",
          "name": "stdout",
          "text": [
            "Epoch 1/50\n",
            "8/8 [==============================] - 38s 3s/step - loss: 0.6977 - accuracy: 0.4928 - val_loss: 0.6798 - val_accuracy: 0.7344\n",
            "Epoch 2/50\n",
            "8/8 [==============================] - 26s 3s/step - loss: 0.6843 - accuracy: 0.5562 - val_loss: 0.6580 - val_accuracy: 0.7539\n",
            "Epoch 3/50\n",
            "8/8 [==============================] - 26s 3s/step - loss: 0.6706 - accuracy: 0.6029 - val_loss: 0.6373 - val_accuracy: 0.6719\n",
            "Epoch 4/50\n",
            "8/8 [==============================] - 26s 3s/step - loss: 0.6603 - accuracy: 0.6563 - val_loss: 0.6086 - val_accuracy: 0.7148\n",
            "Epoch 5/50\n",
            "8/8 [==============================] - 26s 3s/step - loss: 0.6415 - accuracy: 0.6852 - val_loss: 1.0228 - val_accuracy: 0.5000\n",
            "Epoch 6/50\n",
            "8/8 [==============================] - 26s 3s/step - loss: 0.6620 - accuracy: 0.6285 - val_loss: 0.6668 - val_accuracy: 0.5000\n",
            "Epoch 7/50\n",
            "8/8 [==============================] - 26s 3s/step - loss: 0.6115 - accuracy: 0.7019 - val_loss: 0.5987 - val_accuracy: 0.6250\n",
            "Epoch 8/50\n",
            "8/8 [==============================] - 26s 3s/step - loss: 0.6174 - accuracy: 0.7275 - val_loss: 0.6227 - val_accuracy: 0.6016\n",
            "Epoch 9/50\n",
            "8/8 [==============================] - 26s 3s/step - loss: 0.5816 - accuracy: 0.7008 - val_loss: 0.5886 - val_accuracy: 0.6328\n",
            "Epoch 10/50\n",
            "8/8 [==============================] - 29s 4s/step - loss: 0.5359 - accuracy: 0.7627 - val_loss: 0.6976 - val_accuracy: 0.5625\n",
            "Epoch 11/50\n",
            "8/8 [==============================] - 26s 3s/step - loss: 0.5267 - accuracy: 0.7597 - val_loss: 0.9798 - val_accuracy: 0.5234\n",
            "Epoch 12/50\n",
            "8/8 [==============================] - 29s 4s/step - loss: 0.5343 - accuracy: 0.7314 - val_loss: 0.6986 - val_accuracy: 0.6094\n",
            "Epoch 13/50\n",
            "8/8 [==============================] - 28s 3s/step - loss: 0.5032 - accuracy: 0.7598 - val_loss: 0.9109 - val_accuracy: 0.5469\n",
            "Epoch 14/50\n",
            "8/8 [==============================] - 25s 3s/step - loss: 0.5464 - accuracy: 0.7375 - val_loss: 0.8475 - val_accuracy: 0.5820\n",
            "Epoch 15/50\n",
            "8/8 [==============================] - 25s 4s/step - loss: 0.4689 - accuracy: 0.7809 - val_loss: 0.9408 - val_accuracy: 0.5781\n",
            "Epoch 16/50\n",
            "8/8 [==============================] - 25s 3s/step - loss: 0.4862 - accuracy: 0.7597 - val_loss: 0.8137 - val_accuracy: 0.6094\n",
            "Epoch 17/50\n",
            "8/8 [==============================] - 25s 3s/step - loss: 0.4700 - accuracy: 0.7720 - val_loss: 0.6801 - val_accuracy: 0.6719\n",
            "Epoch 18/50\n",
            "8/8 [==============================] - 25s 3s/step - loss: 0.4392 - accuracy: 0.8076 - val_loss: 0.9007 - val_accuracy: 0.6094\n",
            "Epoch 19/50\n",
            "8/8 [==============================] - 25s 3s/step - loss: 0.5892 - accuracy: 0.7208 - val_loss: 0.7742 - val_accuracy: 0.6133\n",
            "Epoch 20/50\n",
            "8/8 [==============================] - 26s 3s/step - loss: 0.4183 - accuracy: 0.8120 - val_loss: 0.8902 - val_accuracy: 0.6328\n",
            "Epoch 21/50\n",
            "8/8 [==============================] - 25s 3s/step - loss: 0.4121 - accuracy: 0.8142 - val_loss: 1.9732 - val_accuracy: 0.5078\n",
            "Epoch 22/50\n",
            "8/8 [==============================] - 26s 3s/step - loss: 0.5421 - accuracy: 0.7119 - val_loss: 0.7504 - val_accuracy: 0.6250\n",
            "Epoch 23/50\n",
            "8/8 [==============================] - 26s 3s/step - loss: 0.4461 - accuracy: 0.7887 - val_loss: 1.1073 - val_accuracy: 0.6016\n",
            "Epoch 24/50\n",
            "8/8 [==============================] - 26s 3s/step - loss: 0.4125 - accuracy: 0.8098 - val_loss: 1.2486 - val_accuracy: 0.5977\n",
            "Epoch 25/50\n",
            "8/8 [==============================] - 28s 4s/step - loss: 0.4069 - accuracy: 0.8184 - val_loss: 1.0930 - val_accuracy: 0.6250\n",
            "Epoch 26/50\n",
            "8/8 [==============================] - 28s 4s/step - loss: 0.3745 - accuracy: 0.8311 - val_loss: 1.6133 - val_accuracy: 0.5625\n",
            "Epoch 27/50\n",
            "8/8 [==============================] - 26s 3s/step - loss: 0.4519 - accuracy: 0.7798 - val_loss: 1.1805 - val_accuracy: 0.6055\n",
            "Epoch 28/50\n",
            "8/8 [==============================] - 26s 3s/step - loss: 0.4137 - accuracy: 0.8131 - val_loss: 0.9809 - val_accuracy: 0.6289\n",
            "Epoch 29/50\n",
            "8/8 [==============================] - 26s 3s/step - loss: 0.3878 - accuracy: 0.8209 - val_loss: 1.4258 - val_accuracy: 0.5820\n",
            "Epoch 30/50\n",
            "8/8 [==============================] - 26s 3s/step - loss: 0.3466 - accuracy: 0.8509 - val_loss: 0.2895 - val_accuracy: 0.8867\n",
            "Epoch 31/50\n",
            "8/8 [==============================] - 25s 3s/step - loss: 0.4854 - accuracy: 0.8176 - val_loss: 2.5213 - val_accuracy: 0.5156\n",
            "Epoch 32/50\n",
            "8/8 [==============================] - 26s 3s/step - loss: 0.3808 - accuracy: 0.8387 - val_loss: 1.4476 - val_accuracy: 0.6094\n",
            "Epoch 33/50\n",
            "8/8 [==============================] - 26s 3s/step - loss: 0.3454 - accuracy: 0.8576 - val_loss: 1.5023 - val_accuracy: 0.5898\n",
            "Epoch 34/50\n",
            "8/8 [==============================] - 25s 3s/step - loss: 0.3103 - accuracy: 0.8832 - val_loss: 1.4123 - val_accuracy: 0.6211\n",
            "Epoch 35/50\n",
            "8/8 [==============================] - 25s 3s/step - loss: 0.3663 - accuracy: 0.8209 - val_loss: 1.5543 - val_accuracy: 0.5977\n",
            "Epoch 36/50\n",
            "8/8 [==============================] - 25s 3s/step - loss: 0.3285 - accuracy: 0.8643 - val_loss: 1.2869 - val_accuracy: 0.6445\n",
            "Epoch 37/50\n",
            "8/8 [==============================] - 25s 3s/step - loss: 0.2892 - accuracy: 0.8821 - val_loss: 1.7031 - val_accuracy: 0.5938\n",
            "Epoch 38/50\n",
            "8/8 [==============================] - 25s 3s/step - loss: 0.3465 - accuracy: 0.8487 - val_loss: 1.2682 - val_accuracy: 0.6602\n",
            "Epoch 39/50\n",
            "8/8 [==============================] - 25s 3s/step - loss: 0.3172 - accuracy: 0.8543 - val_loss: 1.7362 - val_accuracy: 0.6016\n",
            "Epoch 40/50\n",
            "8/8 [==============================] - 24s 3s/step - loss: 0.3227 - accuracy: 0.8643 - val_loss: 1.6392 - val_accuracy: 0.6133\n",
            "Epoch 41/50\n",
            "8/8 [==============================] - 24s 3s/step - loss: 0.4406 - accuracy: 0.8565 - val_loss: 1.5922 - val_accuracy: 0.6367\n",
            "Epoch 42/50\n",
            "8/8 [==============================] - 25s 3s/step - loss: 0.2497 - accuracy: 0.8988 - val_loss: 1.9932 - val_accuracy: 0.5938\n",
            "Epoch 43/50\n",
            "8/8 [==============================] - 25s 3s/step - loss: 0.2978 - accuracy: 0.8710 - val_loss: 2.0148 - val_accuracy: 0.5703\n",
            "Epoch 44/50\n",
            "8/8 [==============================] - 25s 3s/step - loss: 0.2665 - accuracy: 0.8932 - val_loss: 2.5141 - val_accuracy: 0.5234\n",
            "Epoch 45/50\n",
            "8/8 [==============================] - 25s 3s/step - loss: 0.4132 - accuracy: 0.8187 - val_loss: 1.4670 - val_accuracy: 0.6250\n",
            "Epoch 46/50\n",
            "8/8 [==============================] - 28s 3s/step - loss: 0.2579 - accuracy: 0.9014 - val_loss: 1.9835 - val_accuracy: 0.5781\n",
            "Epoch 47/50\n",
            "8/8 [==============================] - 27s 3s/step - loss: 0.2541 - accuracy: 0.9023 - val_loss: 2.1468 - val_accuracy: 0.5742\n",
            "Epoch 48/50\n",
            "8/8 [==============================] - 25s 3s/step - loss: 0.3107 - accuracy: 0.8554 - val_loss: 1.8181 - val_accuracy: 0.5938\n",
            "Epoch 49/50\n",
            "8/8 [==============================] - 25s 3s/step - loss: 0.3022 - accuracy: 0.8587 - val_loss: 1.7998 - val_accuracy: 0.6016\n",
            "Epoch 50/50\n",
            "8/8 [==============================] - 25s 3s/step - loss: 0.2594 - accuracy: 0.8943 - val_loss: 1.3139 - val_accuracy: 0.6875\n"
          ]
        }
      ],
      "source": [
        "# Constant for epochs\n",
        "EPOCHS = 50\n",
        "\n",
        "# Train the model\n",
        "history = model.fit(\n",
        "      train_generator,\n",
        "      steps_per_epoch=8,  \n",
        "      epochs=EPOCHS,\n",
        "      verbose=1,\n",
        "      validation_data = validation_generator,\n",
        "      validation_steps=8)"
      ]
    },
    {
      "cell_type": "code",
      "execution_count": 8,
      "metadata": {
        "id": "7zNPRWOVJdOH",
        "colab": {
          "base_uri": "https://localhost:8080/",
          "height": 545
        },
        "outputId": "3426f6a9-a011-49e0-c708-fe132e5246e8"
      },
      "outputs": [
        {
          "output_type": "display_data",
          "data": {
            "text/plain": [
              "<Figure size 432x288 with 1 Axes>"
            ],
            "image/png": "[encoded data removed]"
          },
          "metadata": {
            "needs_background": "light"
          }
        },
        {
          "output_type": "display_data",
          "data": {
            "text/plain": [
              "<Figure size 432x288 with 1 Axes>"
            ],
            "image/png": "[encoded data removed]"
          },
          "metadata": {
            "needs_background": "light"
          }
        }
      ],
      "source": [
        "import matplotlib.pyplot as plt\n",
        "\n",
        "# Plot the model results\n",
        "acc = history.history['accuracy']\n",
        "val_acc = history.history['val_accuracy']\n",
        "loss = history.history['loss']\n",
        "val_loss = history.history['val_loss']\n",
        "\n",
        "epochs = range(len(acc))\n",
        "\n",
        "plt.plot(epochs, acc, 'r', label='Training accuracy')\n",
        "plt.plot(epochs, val_acc, 'b', label='Validation accuracy')\n",
        "plt.title('Training and validation accuracy')\n",
        "\n",
        "plt.figure()\n",
        "\n",
        "plt.plot(epochs, loss, 'r', label='Training Loss')\n",
        "plt.plot(epochs, val_loss, 'b', label='Validation Loss')\n",
        "plt.title('Training and validation loss')\n",
        "plt.legend()\n",
        "\n",
        "plt.show()"
      ]
    },
    {
      "cell_type": "markdown",
      "metadata": {
        "id": "hwyabYvCsvtn"
      },
      "source": [
        "As you can see in the results, the preprocessing techniques used in augmenting the data did not help much in the results. The validation accuracy is fluctuating and not trending up like the training accuracy. This might be because the additional training data generated still do not represent the features in the validation data. For example, some human or horse poses in the validation set cannot be mimicked by the image processing techniques that `ImageDataGenerator` provides. It might also be that the background of the training images are also learned so the white background of the validation set is throwing the model off even with cropping. Try looking at the validation images in the `tmp/validation-horse-or-human` directory (note: if you are using Colab, you can use the file explorer on the left to explore the images) and see if you can augment the training images to match its characteristics. If this is not possible, then at this point you can consider other techniques and you will see that in next week's lessons."
      ]
    }
  ],
  "metadata": {
    "accelerator": "GPU",
    "colab": {
      "collapsed_sections": [],
      "name": "C2_W2_Lab_2_horses_v_humans_augmentation.ipynb",
      "provenance": []
    },
    "kernelspec": {
      "display_name": "Python 3",
      "language": "python",
      "name": "python3"
    },
    "language_info": {
      "codemirror_mode": {
        "name": "ipython",
        "version": 3
      },
      "file_extension": ".py",
      "mimetype": "text/x-python",
      "name": "python",
      "nbconvert_exporter": "python",
      "pygments_lexer": "ipython3",
      "version": "3.7.4"
    }
  },
  "nbformat": 4,
  "nbformat_minor": 0
}